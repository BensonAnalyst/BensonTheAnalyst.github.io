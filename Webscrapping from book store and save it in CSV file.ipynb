{
 "cells": [
  {
   "cell_type": "code",
   "execution_count": 2,
   "id": "e47fddf1",
   "metadata": {},
   "outputs": [
    {
     "name": "stdout",
     "output_type": "stream",
     "text": [
      "Book data successfully exported to CSV!\n"
     ]
    }
   ],
   "source": [
    "import requests\n",
    "from bs4 import BeautifulSoup\n",
    "import csv\n",
    "import os\n",
    "\n",
    "# send a request to the website\n",
    "url = \"https://books.toscrape.com/\"\n",
    "response = requests.get(url)\n",
    "\n",
    "# create a soup object\n",
    "soup = BeautifulSoup(response.content, \"html.parser\")\n",
    "\n",
    "# find all the book containers\n",
    "book_containers = soup.find_all(\"article\", class_=\"product_pod\")\n",
    "\n",
    "# create lists to store book data\n",
    "titles = []\n",
    "prices = []\n",
    "links = []\n",
    "\n",
    "# loop through each book container and extract data\n",
    "for book in book_containers:\n",
    "    # extract title\n",
    "    title = book.h3.a.get(\"title\")\n",
    "    titles.append(title)\n",
    "\n",
    "    # extract price\n",
    "    price = book.select(\".price_color\")[0].get_text()\n",
    "    prices.append(price)\n",
    "\n",
    "    # extract link\n",
    "    link = url + book.h3.a[\"href\"]\n",
    "    links.append(link)\n",
    "\n",
    "# combine book data into a list of tuples\n",
    "book_data = list(zip(titles, prices, links))\n",
    "\n",
    "# create CSV file and write data to it\n",
    "header = [\"Title\", \"Price\", \"Link\"]\n",
    "with open(os.path.expanduser(\"~/Downloads/book_data.csv\"), \"w\", encoding=\"UTF8\", newline=\"\") as f:\n",
    "    writer = csv.writer(f)\n",
    "    writer.writerow(header)\n",
    "    writer.writerows(book_data)\n",
    "\n",
    "# print success message\n",
    "print(\"Book data successfully exported to CSV!\")\n"
   ]
  }
 ],
 "metadata": {
  "kernelspec": {
   "display_name": "Python 3 (ipykernel)",
   "language": "python",
   "name": "python3"
  },
  "language_info": {
   "codemirror_mode": {
    "name": "ipython",
    "version": 3
   },
   "file_extension": ".py",
   "mimetype": "text/x-python",
   "name": "python",
   "nbconvert_exporter": "python",
   "pygments_lexer": "ipython3",
   "version": "3.10.9"
  }
 },
 "nbformat": 4,
 "nbformat_minor": 5
}
